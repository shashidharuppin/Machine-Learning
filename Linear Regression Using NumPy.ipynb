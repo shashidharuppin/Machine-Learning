{
 "cells": [
  {
   "cell_type": "code",
   "execution_count": null,
   "metadata": {},
   "outputs": [],
   "source": [
    "import numpy as np\n",
    "import matplotlib.pylab as plt\n",
    "\n",
    "#Initializing the arrays\n",
    "x = np.arange(1,11)\n",
    "y = np.array([156,165,180,170,174,185,200,190,198,210])\n",
    "n = len(x)\n",
    "\n",
    "def get_gradient(w,b,x,y):\n",
    "    grad_w = 0\n",
    "    grad_b = 0\n",
    "    \n",
    "    grad_w += -(2/n) * np.sum(x * (y - (x * w + b)))\n",
    "    grad_b += -(2/n)* np.sum(y - (x * w + b))\n",
    "\n",
    "    return grad_w,grad_b\n",
    "\n",
    "def grad_descent():   \n",
    "    w = 0\n",
    "    b = 0\n",
    "    alpha = 0.01 \n",
    "    gradient_w = 1\n",
    "    \n",
    "    print(\"the mean square error at the beginning is: \",cost_function(w,b))\n",
    "    \n",
    "    while gradient_w !=0:\n",
    "        gradient_w,gradient_b = get_gradient(w,b,x,y)\n",
    "        w = w - alpha * gradient_w\n",
    "        b = b - alpha * gradient_b    \n",
    "    return w,b\n",
    "\n",
    "def cost_function(w,b):\n",
    "    total = 0\n",
    "    for i in range(n):\n",
    "        total = np.sum(np.square(w*x+b-y))\n",
    "        total = total/n\n",
    "    return total\n",
    "\n",
    "def predict_output(w,b):\n",
    "    return (x * w + b)\n",
    "\n",
    "def main():\n",
    "    m,c = grad_descent()\n",
    "    print(\"weight: \",m,\"bias:\", c)\n",
    "    plt.scatter(x,y)\n",
    "    plt.plot(x, (m*x + c), '-')\n",
    "    \n",
    "    print(\"The mean square error after optimization is: \",cost_function(m,c))\n",
    "    \n",
    "main()\n",
    "    "
   ]
  }
 ],
 "metadata": {
  "kernelspec": {
   "display_name": "Python 3",
   "language": "python",
   "name": "python3"
  },
  "language_info": {
   "codemirror_mode": {
    "name": "ipython",
    "version": 3
   },
   "file_extension": ".py",
   "mimetype": "text/x-python",
   "name": "python",
   "nbconvert_exporter": "python",
   "pygments_lexer": "ipython3",
   "version": "3.7.4"
  }
 },
 "nbformat": 4,
 "nbformat_minor": 2
}
