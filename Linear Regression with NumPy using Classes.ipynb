{
 "cells": [
  {
   "cell_type": "code",
   "execution_count": 25,
   "metadata": {},
   "outputs": [
    {
     "name": "stdout",
     "output_type": "stream",
     "text": [
      "the mean square error at the beginning is:  33676.6\n",
      "weight:  5.260606060606555 bias: 153.86666666666324\n",
      "The mean square error after optimization is:  32.449696969697\n"
     ]
    },
    {
     "data": {
      "image/png": "[encoded data removed]",
      "text/plain": [
       "<Figure size 432x288 with 1 Axes>"
      ]
     },
     "metadata": {
      "needs_background": "light"
     },
     "output_type": "display_data"
    }
   ],
   "source": [
    "import numpy as np\n",
    "import matplotlib.pylab as plt\n",
    "\n",
    "\n",
    "class Linear_Regression():\n",
    "    \n",
    "    def __init__(self,x,y):\n",
    "        self.x = x\n",
    "        self.y = y\n",
    "        self.n = len(x)\n",
    "        self.grad_w = 1\n",
    "        self.grad_b = 0\n",
    "        self.w = 1\n",
    "        self.b = 1\n",
    "        self.alpha = 0.01\n",
    "\n",
    "        \n",
    "    #defining the gradient function to find gradient of weights and bias and optimizing the weights and bias\n",
    "    def get_gradient_descent(self):\n",
    "        while self.grad_w !=0:\n",
    "            self.grad_w += -(2/n) * np.sum(x * (y - (x * w + b)))\n",
    "            self.grad_b += -(2/n)* np.sum(y - (x * w + b))\n",
    "            \n",
    "            self.w = self.w - self.alpha * self.grad_w\n",
    "            self.b = self.b - self.alpha * self.grad_b    \n",
    "        return self.w,self.b\n",
    "\n",
    "    #Finding out the mean square of errors \n",
    "    def cost_function(self):\n",
    "        total = np.sum(np.square(self.x * self.w + self.b - self.y))\n",
    "        total = total/self.n\n",
    "        return total\n",
    "\n",
    "    # to predict the output for any input\n",
    "    def predict_output(self,X):\n",
    "        return (X * self.w + self.b)\n",
    "\n",
    "    def main():\n",
    "        \n",
    "        #Initializing the arrays\n",
    "        x = np.arange(1,11)\n",
    "        y = np.array([156,165,180,170,174,185,200,190,198,210])\n",
    "        \n",
    "        print(\"The MSE at the beginning is: \",cost_function())\n",
    "        \n",
    "        linreg = Linear_Regression(x,y)\n",
    "        m,c = linreg.get_gradient_descent()\n",
    "        print(\"weight: \",m,\"bias:\", c)\n",
    "        plt.scatter(self.x,self.y)\n",
    "        plt.plot(self.x, (m*self.x + c), '-')\n",
    "\n",
    "        print(\"The MSE after optimization is: \",cost_function())\n",
    "    \n",
    "if __name__== \"__main__\":\n",
    "    main()\n",
    "    "
   ]
  },
  {
   "cell_type": "code",
   "execution_count": null,
   "metadata": {},
   "outputs": [],
   "source": []
  }
 ],
 "metadata": {
  "kernelspec": {
   "display_name": "Python 3",
   "language": "python",
   "name": "python3"
  },
  "language_info": {
   "codemirror_mode": {
    "name": "ipython",
    "version": 3
   },
   "file_extension": ".py",
   "mimetype": "text/x-python",
   "name": "python",
   "nbconvert_exporter": "python",
   "pygments_lexer": "ipython3",
   "version": "3.7.4"
  }
 },
 "nbformat": 4,
 "nbformat_minor": 2
}
